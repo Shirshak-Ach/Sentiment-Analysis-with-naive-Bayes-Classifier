{
 "cells": [
  {
   "cell_type": "code",
   "execution_count": 6,
   "id": "d00e5894",
   "metadata": {},
   "outputs": [],
   "source": [
    "import numpy as np \n",
    "import pandas as pd\n",
    "import nltk \n",
    "import string "
   ]
  },
  {
   "cell_type": "code",
   "execution_count": 7,
   "id": "b73fb270",
   "metadata": {},
   "outputs": [],
   "source": [
    "# nltk.download('stopwords')\n",
    "# nltk.download('twitter_samples')\n",
    "from nltk.corpus import stopwords,twitter_samples"
   ]
  },
  {
   "cell_type": "code",
   "execution_count": 8,
   "id": "92292fc7",
   "metadata": {},
   "outputs": [],
   "source": [
    "positive_tweet = twitter_samples.strings('positive_tweets.json')\n",
    "negative_tweet = twitter_samples.strings('negative_tweets.json')"
   ]
  },
  {
   "cell_type": "code",
   "execution_count": 13,
   "id": "8cba7fb2",
   "metadata": {},
   "outputs": [],
   "source": [
    "train_pos = positive_tweet[:4000]\n",
    "test_pos = positive_tweet[4000:]\n",
    "train_neg = negative_tweet[:4000]\n",
    "test_neg = negative_tweet[4000:]\n",
    "\n",
    "train_X = train_pos + train_neg\n",
    "train_y = np.append(np.ones(len(train_pos)),np.zeros(len(train_neg)))\n",
    "\n",
    "test_X = test_neg + test_pos\n",
    "test_y = np.append(np.zeros(len(test_neg)),np.ones(len(test_pos)))"
   ]
  },
  {
   "cell_type": "code",
   "execution_count": 31,
   "id": "e18238e5",
   "metadata": {},
   "outputs": [],
   "source": [
    "import re\n",
    "from nltk.corpus import stopwords\n",
    "from nltk.stem import PorterStemmer\n",
    "from nltk.tokenize import TweetTokenizer"
   ]
  },
  {
   "cell_type": "code",
   "execution_count": 47,
   "id": "c3410315",
   "metadata": {},
   "outputs": [],
   "source": [
    "#Data Preprocessing \n",
    "# removing hyperlink \n",
    "# tokenization\n",
    "# removing stopwords  \n",
    "# stemming\n",
    "\n",
    "def process_tweet(tweet):\n",
    "    # remove old style retweet text \"RT\"\n",
    "    tweet_ = re.sub(r'^RT[\\s]+', '', tweet)\n",
    "    # remove hyperlinks\n",
    "    tweet= re.sub(r'https?:\\/\\/.*[\\r\\n]*', '', tweet)\n",
    "    # remove hashtags\n",
    "    # only removing the hash # sign from the word\n",
    "    tweet= re.sub(r'#', '', tweet)\n",
    "    \n",
    "    tokenizer = TweetTokenizer(preserve_case= False,strip_handles=True,reduce_len=True)\n",
    "    tweet = tokenizer.tokenize(tweet)\n",
    "    stopwords_english = stopwords.words('english')\n",
    "    new_tweet=[]\n",
    "    for word in tweet:\n",
    "        if(word not in stopwords_english and word not in string.punctuation):\n",
    "            new_tweet.append(word)\n",
    "    stemmer = PorterStemmer()\n",
    "    final_stemmed_word = []\n",
    "    for word in new_tweet:\n",
    "        stemmed_word = stemmer.stem(word)\n",
    "        final_stemmed_word.append(stemmed_word)\n",
    "    return final_stemmed_word"
   ]
  },
  {
   "cell_type": "code",
   "execution_count": 48,
   "id": "1ec253b4",
   "metadata": {},
   "outputs": [
    {
     "name": "stdout",
     "output_type": "stream",
     "text": [
      "['followfriday', 'top', 'influenc', 'commun', 'week', ':)']\n"
     ]
    }
   ],
   "source": [
    "a = process_tweet('#FollowFriday @NGourd @Locita @D_Robert_Kelly for being top influencers in my community this week :)')\n",
    "print(a)"
   ]
  },
  {
   "cell_type": "code",
   "execution_count": 138,
   "id": "53f85106",
   "metadata": {},
   "outputs": [],
   "source": [
    "def map_pair_with_freq(result,tweets,y_value_sentiment):\n",
    "    for tweet, y_value in zip(tweets,y_value_sentiment):\n",
    "        for word in process_tweet(tweet):\n",
    "            #defining a key consisting of word and label tuple\n",
    "            pair = (word,y_value)\n",
    "            # if key exist in dictionary increment count \n",
    "            if pair in result:\n",
    "                result[pair] +=1\n",
    "            else:\n",
    "                result[pair] = 1\n",
    "    return result"
   ]
  },
  {
   "cell_type": "code",
   "execution_count": 139,
   "id": "398c3181",
   "metadata": {},
   "outputs": [
    {
     "data": {
      "text/plain": [
       "{('happi', 1): 2,\n",
       " ('trick', 0): 1,\n",
       " ('sad', 0): 1,\n",
       " ('bless', 1): 1,\n",
       " ('tire', 0): 1}"
      ]
     },
     "execution_count": 139,
     "metadata": {},
     "output_type": "execute_result"
    }
   ],
   "source": [
    "result = {}\n",
    "tweets = ['i am happy', 'he is happy','i am tricked', 'i am sad', 'i am blessed', 'i am tired']\n",
    "y_value_sentiment = [1,1,0,0,1,0]\n",
    "map_pair_with_freq(result,tweets,y_value_sentiment)"
   ]
  },
  {
   "cell_type": "code",
   "execution_count": 140,
   "id": "f113770a",
   "metadata": {},
   "outputs": [],
   "source": [
    "#Creating Frequency Dictionary \n",
    "freqs = map_pair_with_freq({},train_X,train_y)"
   ]
  },
  {
   "cell_type": "code",
   "execution_count": 153,
   "id": "6d3abb4e",
   "metadata": {},
   "outputs": [],
   "source": [
    "#freqs"
   ]
  },
  {
   "cell_type": "code",
   "execution_count": 83,
   "id": "d6a31279",
   "metadata": {},
   "outputs": [
    {
     "data": {
      "text/plain": [
       "4000"
      ]
     },
     "execution_count": 83,
     "metadata": {},
     "output_type": "execute_result"
    }
   ],
   "source": [
    "len(list(filter(lambda x: x > 0, train_y)))"
   ]
  },
  {
   "cell_type": "code",
   "execution_count": 95,
   "id": "fb152569",
   "metadata": {},
   "outputs": [],
   "source": [
    "def lookup(freqs,word,label):\n",
    "    n = 0\n",
    "    pair = (word,label)\n",
    "    if pair in freqs:\n",
    "        n = freqs[pair] #n: the number of times the word with its corresponding label appears.\n",
    "    return n\n",
    "\n",
    "#freqs: a dictionary with the frequency of each pair (or tuple)\n",
    "#word: the word to look up\n",
    "#label: the label corresponding to the word"
   ]
  },
  {
   "cell_type": "code",
   "execution_count": 120,
   "id": "5496d605",
   "metadata": {},
   "outputs": [],
   "source": [
    "def train_naive_bayes(freqs, train_x, train_y):\n",
    "    loglikelihood = {}\n",
    "    logprior = 0\n",
    "\n",
    "    # calculate V, the number of unique words in the vocabulary\n",
    "    vocab = set([pair[0] for pair in freqs.keys()])\n",
    "    V = len(vocab)\n",
    "\n",
    "    # calculate N_pos, N_neg, V_pos, V_neg\n",
    "    N_pos = N_neg = V_pos = V_neg = 0\n",
    "    for pair in freqs.keys():\n",
    "        # if the label is positive (greater than zero)\n",
    "        if pair[1] > 0:\n",
    "            # increment the count of unique positive words by 1\n",
    "            V_pos += 1\n",
    "\n",
    "            # Increment the number of positive words by the count for this (word, label) pair\n",
    "            N_pos += freqs[pair]\n",
    "\n",
    "        # else, the label is negative\n",
    "        else:\n",
    "            # increment the count of unique negative words by 1\n",
    "            V_neg += 1\n",
    "\n",
    "            # increment the number of negative words by the count for this (word,label) pair\n",
    "            N_neg += freqs[pair]\n",
    "\n",
    "    # Calculate D, the number of documents\n",
    "    D = len(train_y)\n",
    "\n",
    "    # Calculate D_pos, the number of positive documents\n",
    "    D_pos = (len(list(filter(lambda x: x > 0, train_y))))\n",
    "\n",
    "    # Calculate D_neg, the number of negative documents\n",
    "    D_neg = (len(list(filter(lambda x: x <= 0, train_y))))\n",
    "\n",
    "    # Calculate logprior\n",
    "    logprior = np.log(D_pos) - np.log(D_neg)\n",
    "\n",
    "    # For each word in the vocabulary...\n",
    "    for word in vocab:\n",
    "        # get the positive and negative frequency of the word\n",
    "        freq_pos = lookup(freqs,word,1)\n",
    "        freq_neg = lookup(freqs,word,0)\n",
    "\n",
    "        # calculate the probability that each word is positive, and negative\n",
    "        p_w_pos = (freq_pos + 1) / (N_pos + V)\n",
    "        p_w_neg = (freq_neg + 1) / (N_neg + V)\n",
    "\n",
    "        # calculate the log likelihood of the word\n",
    "        loglikelihood[word] = np.log(p_w_pos/p_w_neg)\n",
    "        \n",
    "    return logprior, loglikelihood"
   ]
  },
  {
   "cell_type": "code",
   "execution_count": 143,
   "id": "ca2e93d8",
   "metadata": {},
   "outputs": [],
   "source": [
    "logprior, loglikelihood = train_naive_bayes(freqs, train_X, train_y)"
   ]
  },
  {
   "cell_type": "code",
   "execution_count": 144,
   "id": "221c9b22",
   "metadata": {},
   "outputs": [],
   "source": [
    "def calculate_numerical_value_of_sentence(tweet,logprior,loglikelihood):\n",
    "    # process the tweet to get a list of words\n",
    "    list_of_words = process_tweet(tweet)\n",
    "\n",
    "    # initialize probability to zero\n",
    "    probability = 0\n",
    "\n",
    "    # add the logprior\n",
    "    probability += logprior\n",
    "\n",
    "    for word in list_of_words:\n",
    "\n",
    "        # check if the word exists in the loglikelihood dictionary\n",
    "        if word in loglikelihood:\n",
    "            # add the log likelihood of that word to the probability\n",
    "            probability += loglikelihood[word]\n",
    "            \n",
    "    return probability"
   ]
  },
  {
   "cell_type": "code",
   "execution_count": 146,
   "id": "ededdc6d",
   "metadata": {},
   "outputs": [
    {
     "name": "stdout",
     "output_type": "stream",
     "text": [
      "The expected output is 2.505426965863066\n"
     ]
    }
   ],
   "source": [
    "my_tweet = 'I am very happy. I am good. I am fortunate. I am lucky.'\n",
    "p = calculate_numerical_value_of_sentence(my_tweet, logprior, loglikelihood)\n",
    "print('The expected output is', p)"
   ]
  },
  {
   "cell_type": "code",
   "execution_count": 149,
   "id": "fde95d32",
   "metadata": {},
   "outputs": [],
   "source": [
    "def test_naive_bayes(test_X,test_y,logprior,loglikehood):\n",
    "    y_hats = []\n",
    "    for tweet in test_X:\n",
    "        if calculate_numerical_value_of_sentence(tweet,logprior,loglikehood) > 0:\n",
    "            y_hat_i = 1\n",
    "        else:\n",
    "            y_hat_i = 0\n",
    "        y_hats.append(y_hat_i)\n",
    "    # error is the average of the absolute values of the differences between y_hats and test_y\n",
    "    error = np.mean(np.absolute(y_hats-test_y))\n",
    "\n",
    "    # Accuracy is 1 minus the error\n",
    "    accuracy = 1-error\n",
    "    \n",
    "    return accuracy"
   ]
  },
  {
   "cell_type": "code",
   "execution_count": 150,
   "id": "ef50ce26",
   "metadata": {},
   "outputs": [
    {
     "name": "stdout",
     "output_type": "stream",
     "text": [
      "Naive Bayes accuracy = 0.9940\n"
     ]
    }
   ],
   "source": [
    "print(\"Naive Bayes accuracy = %0.4f\" %\n",
    "      (test_naive_bayes(test_X, test_y, logprior, loglikelihood)))"
   ]
  },
  {
   "cell_type": "code",
   "execution_count": null,
   "id": "bbacee86",
   "metadata": {},
   "outputs": [],
   "source": []
  },
  {
   "cell_type": "code",
   "execution_count": 151,
   "id": "ce9730ab",
   "metadata": {},
   "outputs": [
    {
     "name": "stdout",
     "output_type": "stream",
     "text": [
      "I am happy -> 2.15\n",
      "I am bad -> -1.29\n",
      "this movie should have been great. -> 2.14\n",
      "great -> 2.14\n",
      "great great -> 4.28\n",
      "great great great -> 6.41\n",
      "great great great great -> 8.55\n"
     ]
    }
   ],
   "source": [
    "for tweet in ['I am happy', 'I am bad', 'this movie should have been great.', 'great', 'great great', 'great great great', 'great great great great']:\n",
    "    p = naive_bayes_predict(tweet, logprior, loglikelihood)\n",
    "    print(f'{tweet} -> {p:.2f}')"
   ]
  },
  {
   "cell_type": "code",
   "execution_count": 152,
   "id": "d846cdf3",
   "metadata": {},
   "outputs": [
    {
     "data": {
      "text/plain": [
       "-8.801897103167159"
      ]
     },
     "execution_count": 152,
     "metadata": {},
     "output_type": "execute_result"
    }
   ],
   "source": [
    "my_tweet = 'you are bad :('\n",
    "naive_bayes_predict(my_tweet, logprior, loglikelihood)"
   ]
  },
  {
   "cell_type": "code",
   "execution_count": null,
   "id": "09deca7f",
   "metadata": {},
   "outputs": [],
   "source": []
  },
  {
   "cell_type": "code",
   "execution_count": null,
   "id": "0f94d18a",
   "metadata": {},
   "outputs": [],
   "source": []
  },
  {
   "cell_type": "code",
   "execution_count": null,
   "id": "9fbc7cd7",
   "metadata": {},
   "outputs": [],
   "source": []
  },
  {
   "cell_type": "code",
   "execution_count": null,
   "id": "af5a992a",
   "metadata": {},
   "outputs": [],
   "source": []
  },
  {
   "cell_type": "code",
   "execution_count": null,
   "id": "3150bcd7",
   "metadata": {},
   "outputs": [],
   "source": []
  }
 ],
 "metadata": {
  "kernelspec": {
   "display_name": "Python 3 (ipykernel)",
   "language": "python",
   "name": "python3"
  },
  "language_info": {
   "codemirror_mode": {
    "name": "ipython",
    "version": 3
   },
   "file_extension": ".py",
   "mimetype": "text/x-python",
   "name": "python",
   "nbconvert_exporter": "python",
   "pygments_lexer": "ipython3",
   "version": "3.10.9"
  }
 },
 "nbformat": 4,
 "nbformat_minor": 5
}
